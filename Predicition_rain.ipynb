{
  "nbformat": 4,
  "nbformat_minor": 0,
  "metadata": {
    "colab": {
      "name": "Weather.ipynb",
      "provenance": [],
      "collapsed_sections": []
    },
    "kernelspec": {
      "name": "python3",
      "display_name": "Python 3"
    },
    "language_info": {
      "name": "python"
    }
  },
  "cells": [
    {
      "cell_type": "code",
      "source": [
        "import numpy as np\n",
        "import pandas as pd \n",
        "from sklearn.model_selection import train_test_split     #sklearn library write the hypothesis function for us\n",
        "from sklearn.preprocessing import PolynomialFeatures\n",
        "from sklearn.linear_model import LinearRegression\n",
        "from sklearn.pipeline import make_pipeline\n",
        "from sklearn import metrics\n",
        "import matplotlib.pyplot as plt\n",
        "from mpl_toolkits import mplot3d\n",
        "\n",
        "%matplotlib inline"
      ],
      "metadata": {
        "id": "_xx9wkbatjKL"
      },
      "execution_count": 79,
      "outputs": []
    },
    {
      "cell_type": "code",
      "execution_count": 84,
      "metadata": {
        "colab": {
          "base_uri": "https://localhost:8080/"
        },
        "id": "UVnaHilUlOiU",
        "outputId": "63782c97-36e3-4ebc-be2c-36151c65bf3e"
      },
      "outputs": [
        {
          "output_type": "stream",
          "name": "stdout",
          "text": [
            "Drive already mounted at /content/drive; to attempt to forcibly remount, call drive.mount(\"/content/drive\", force_remount=True).\n"
          ]
        }
      ],
      "source": [
        "from google.colab import drive\n",
        "drive.mount('/content/drive')"
      ]
    },
    {
      "cell_type": "code",
      "source": [
        "%cd /content/drive/My Drive/Colab Notebooks/Weather_Prediction"
      ],
      "metadata": {
        "colab": {
          "base_uri": "https://localhost:8080/"
        },
        "id": "2JIm2kpHqp_S",
        "outputId": "7ee25267-702d-4cd2-f763-19d65df0377f"
      },
      "execution_count": 80,
      "outputs": [
        {
          "output_type": "stream",
          "name": "stdout",
          "text": [
            "/content/drive/My Drive/Colab Notebooks/Weather_Prediction\n"
          ]
        }
      ]
    },
    {
      "cell_type": "code",
      "source": [
        "df=pd.read_csv(\"indian_summer.csv\",usecols = ['humidity','temp','conditions']) #Load the dataset from csv file\n",
        "#print(df)\n",
        "\n",
        "\n",
        "df = df.replace(['Clear'],0)\n",
        "df = df.replace(['Rain'],1)\n",
        "df = df.replace(['Partially cloudy'],2)\n",
        "\n",
        "df = df.replace(['Rain, Partially cloudy'],3)\n",
        "\n",
        "df = df.replace(['Overcast'],4)\n",
        "df = df.replace(['Rain, Overcast'],5)\n",
        "#df_x = df.iloc[:1000,:]\n",
        "\n",
        "df1 = df.drop(['conditions'], axis=1)\n",
        "df1 = df1.iloc[:12000,:]\n",
        "x=np.array(df1)\n",
        "print(x)\n",
        "\n",
        "\n",
        "df2 = df.drop(['humidity','temp'],axis = 1)\n",
        "df2 = df2.iloc[:12000,:]\n",
        "y = np.array(df2)\n",
        "#y = df.conditions.values\n",
        "'''\n",
        "for i in range(0,len(y)-1):\n",
        "  if y[i] == 'Clear':\n",
        "    y[i] = 0\n",
        "  elif y[i] == 'Rain':\n",
        "    y[i] = 1\n",
        "  \n",
        "  elif y[i] == 'Partially cloudy':\n",
        "    y[i] = 2\n",
        "  elif y[i] == 'Rain, Partially cloudy':\n",
        "    y[i] = 3\n",
        "  else:\n",
        "    y[i] = 4\n",
        "'''\n",
        "#np.delete(y,'Partially cloudy')\n",
        "print(y)\n"
      ],
      "metadata": {
        "colab": {
          "base_uri": "https://localhost:8080/"
        },
        "id": "zgGveSUtq_OS",
        "outputId": "6476069b-05b6-4842-90f3-c5fafa11f65d"
      },
      "execution_count": 87,
      "outputs": [
        {
          "output_type": "stream",
          "name": "stdout",
          "text": [
            "[[27.1  22.6 ]\n",
            " [25.8  27.62]\n",
            " [26.   23.18]\n",
            " ...\n",
            " [25.2  92.83]\n",
            " [25.   92.96]\n",
            " [26.   85.62]]\n",
            "[[0.]\n",
            " [0.]\n",
            " [0.]\n",
            " ...\n",
            " [4.]\n",
            " [4.]\n",
            " [4.]]\n"
          ]
        }
      ]
    },
    {
      "cell_type": "code",
      "source": [
        "#X_train,X_test,Y_train,Y_test = train_test_split(X,y,train_size = 0.8,random_state=3)\n",
        "model = make_pipeline(PolynomialFeatures(degree=2), LinearRegression(fit_intercept = False))\n",
        "model.fit(x,y)"
      ],
      "metadata": {
        "colab": {
          "base_uri": "https://localhost:8080/"
        },
        "id": "6LQSzS7gwg0n",
        "outputId": "656a865f-3b13-4616-c8f2-ff4db699c6e5"
      },
      "execution_count": 88,
      "outputs": [
        {
          "output_type": "execute_result",
          "data": {
            "text/plain": [
              "Pipeline(steps=[('polynomialfeatures', PolynomialFeatures()),\n",
              "                ('linearregression', LinearRegression(fit_intercept=False))])"
            ]
          },
          "metadata": {},
          "execution_count": 88
        }
      ]
    },
    {
      "cell_type": "code",
      "source": [
        "#print(x[:,0])\n",
        "print(\"Enter the Temperature Value : \")\n",
        "x_1 = input()\n",
        "print(\"Enter the Humidity Value : \")\n",
        "x_2 = input()\n",
        "x1 = [[x_1 ,x_2]]\n",
        "\n",
        "y1 = model.predict(x1)\n",
        "#print(y1)\n",
        "if 0<= y1 and y1<1:\n",
        "   print(\"Clear\")\n",
        "elif 0.8<y1 and y1<1.8 :\n",
        "   print(\"Rain\")\n",
        " \n",
        "elif 1.8< y1 and y1<2:\n",
        "  print(\"Rain,Partially Cloudy\")\n",
        "\n",
        "elif 2<y1 and y1<3:\n",
        "   print(\"Rain, Partially cloudy\")"
      ],
      "metadata": {
        "colab": {
          "base_uri": "https://localhost:8080/"
        },
        "id": "ydYUvKdtqtAq",
        "outputId": "8a5fb67e-fa2e-4b8d-eaf1-647d75fe31c5"
      },
      "execution_count": 104,
      "outputs": [
        {
          "output_type": "stream",
          "name": "stdout",
          "text": [
            "Enter the Temperature Value : \n",
            "31\n",
            "Enter the Humidity Value : \n",
            "89\n",
            "Rain, Partially cloudy\n"
          ]
        }
      ]
    },
    {
      "cell_type": "code",
      "source": [
        "fig, ax = plt.subplots(2)\n",
        " \n",
        "# Accessing each axes object to plot the data through returned array\n",
        "ax[0].plot(x[:,0], y)\n",
        "ax[1].plot(x[:,1], y)"
      ],
      "metadata": {
        "colab": {
          "base_uri": "https://localhost:8080/",
          "height": 283
        },
        "id": "dQ4wdTC5C12f",
        "outputId": "e4aacfeb-d30a-41ed-b6ce-e70adef5b048"
      },
      "execution_count": 108,
      "outputs": [
        {
          "output_type": "execute_result",
          "data": {
            "text/plain": [
              "[<matplotlib.lines.Line2D at 0x7f3db76b56d0>]"
            ]
          },
          "metadata": {},
          "execution_count": 108
        },
        {
          "output_type": "display_data",
          "data": {
            "text/plain": [
              "<Figure size 432x288 with 2 Axes>"
            ],
            "image/png": "[encoded data removed]"
          },
          "metadata": {
            "needs_background": "light"
          }
        }
      ]
    }
  ]
}